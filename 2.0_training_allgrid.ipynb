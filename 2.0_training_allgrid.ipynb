{
 "cells": [
  {
   "cell_type": "code",
   "execution_count": 1,
   "metadata": {},
   "outputs": [],
   "source": [
    "from __future__ import absolute_import, division, print_function # Python2 compatibility\n",
    "import numpy as np\n",
    "import matplotlib.pyplot as plt\n",
    "%matplotlib inline \n",
    "\n",
    "from The_Payne import utils\n",
    "from The_Payne import training\n",
    "\n",
    "import torch\n",
    "from The_Payne import spectral_model\n",
    "from The_Payne import fitting\n",
    "import os"
   ]
  },
  {
   "cell_type": "markdown",
   "metadata": {},
   "source": [
    "wavelength shape is 14304"
   ]
  },
  {
   "cell_type": "code",
   "execution_count": 2,
   "metadata": {},
   "outputs": [],
   "source": [
    "wavelength = utils.load_wavelength_array(survey='galah')"
   ]
  },
  {
   "cell_type": "markdown",
   "metadata": {},
   "source": [
    "利用utils下载训练集"
   ]
  },
  {
   "cell_type": "code",
   "execution_count": 3,
   "metadata": {},
   "outputs": [
    {
     "name": "stdout",
     "output_type": "stream",
     "text": [
      "The model_grid has the following keywords:\n",
      "dict_keys(['wavelength', 'teff', 'logg', 'feh', 'alpha_fe', 'broad', 'smod'])\n",
      "Whole training set: 6000\n",
      "Redefined training set (4800) and validation set (1200)\n",
      "1200\n"
     ]
    }
   ],
   "source": [
    "training_labels, training_spectra, validation_labels, validation_spectra = \\\n",
    "utils.load_training_data(survey='galah',size = 6000)"
   ]
  },
  {
   "cell_type": "code",
   "execution_count": 5,
   "metadata": {},
   "outputs": [],
   "source": [
    "index_training_labels = np.where(training_labels[:,0] < 7250.)\n",
    "index_validation_labels = np.where(validation_labels[:,0] < 7250.)"
   ]
  },
  {
   "cell_type": "code",
   "execution_count": 6,
   "metadata": {},
   "outputs": [],
   "source": [
    "training_labels = training_labels[index_training_labels[0]]\n",
    "training_spectra = training_spectra[index_training_labels[0]]\n",
    "validation_labels = validation_labels[index_validation_labels[0]]\n",
    "validation_spectra = validation_spectra[index_validation_labels[0]]"
   ]
  },
  {
   "cell_type": "code",
   "execution_count": 7,
   "metadata": {},
   "outputs": [
    {
     "data": {
      "text/plain": [
       "(967, 5)"
      ]
     },
     "execution_count": 7,
     "metadata": {},
     "output_type": "execute_result"
    }
   ],
   "source": [
    "validation_labels.shape"
   ]
  },
  {
   "cell_type": "code",
   "execution_count": 8,
   "metadata": {},
   "outputs": [
    {
     "data": {
      "text/plain": [
       "(3912, 5)"
      ]
     },
     "execution_count": 8,
     "metadata": {},
     "output_type": "execute_result"
    }
   ],
   "source": [
    "training_labels.shape"
   ]
  },
  {
   "cell_type": "code",
   "execution_count": 9,
   "metadata": {},
   "outputs": [
    {
     "data": {
      "text/plain": [
       "<matplotlib.collections.PathCollection at 0x7f027af6a1d0>"
      ]
     },
     "execution_count": 9,
     "metadata": {},
     "output_type": "execute_result"
    },
    {
     "data": {
      "image/png": "[encoded data removed]",
      "text/plain": [
       "<Figure size 432x288 with 1 Axes>"
      ]
     },
     "metadata": {
      "needs_background": "light"
     },
     "output_type": "display_data"
    }
   ],
   "source": [
    "plt.scatter(training_labels.T[0],training_labels.T[1])"
   ]
  },
  {
   "cell_type": "code",
   "execution_count": 10,
   "metadata": {},
   "outputs": [
    {
     "data": {
      "text/plain": [
       "<matplotlib.collections.PathCollection at 0x7f027ae74eb8>"
      ]
     },
     "execution_count": 10,
     "metadata": {},
     "output_type": "execute_result"
    },
    {
     "data": {
      "image/png": "[encoded data removed]",
      "text/plain": [
       "<Figure size 432x288 with 1 Axes>"
      ]
     },
     "metadata": {
      "needs_background": "light"
     },
     "output_type": "display_data"
    }
   ],
   "source": [
    "plt.scatter(validation_labels.T[2],validation_labels.T[3])"
   ]
  },
  {
   "cell_type": "markdown",
   "metadata": {},
   "source": [
    "galah_model_grid = utils.get_model_grid()"
   ]
  },
  {
   "cell_type": "markdown",
   "metadata": {},
   "source": [
    "#Thomas grid has been interpolated so next code is markdown.\n",
    "#import scipy\n",
    "#interpolated_training_spectra = np.array([scipy.interp(wavelength, galah_model_grid['wavelength'], training_spectra[x]) for x in range(2410)])\n",
    "#interpolated_validation_spectra = np.array([scipy.interp(wavelength, galah_model_grid['wavelength'], validation_spectra[x]) for x in range(613)])"
   ]
  },
  {
   "cell_type": "markdown",
   "metadata": {},
   "source": [
    "#样条插值\n",
    "from scipy import interpolate\n",
    "interpolated_training_spectra = []\n",
    "interpolated_validation_spectra = []\n",
    "for x in range(3253):\n",
    "    interpolated = np.array(interpolate.splev(wavelength, interpolate.splrep(galah_model_grid['wavelength'], training_spectra[x], s=0), der=0))\n",
    "    interpolated_training_spectra.append(interpolated)\n",
    "    \n",
    "for y in range(803):\n",
    "    interpolated = np.array(interpolate.splev(wavelength, interpolate.splrep(galah_model_grid['wavelength'], validation_spectra[y], s=0), der=0))\n",
    "    interpolated_validation_spectra.append(interpolated)"
   ]
  },
  {
   "cell_type": "markdown",
   "metadata": {},
   "source": [
    "interpolated_training_spectra = np.array(interpolated_training_spectra)\n",
    "interpolated_validation_spectra = np.array(interpolated_validation_spectra)"
   ]
  },
  {
   "cell_type": "markdown",
   "metadata": {},
   "source": [
    "training_labels = training_labels.astype(np.float64)\n",
    "training_spectra = (interpolated_training_spectra).astype(np.float64)\n",
    "validation_labels = validation_labels.astype(np.float64)\n",
    "validation_spectra = (interpolated_validation_spectra).astype(np.float64)"
   ]
  },
  {
   "cell_type": "code",
   "execution_count": 11,
   "metadata": {
    "scrolled": true
   },
   "outputs": [
    {
     "name": "stdout",
     "output_type": "stream",
     "text": [
      "Step 1000: Training set loss = 35.076 / Validation set loss = 34.62\n",
      "Step 2000: Training set loss = 17.378 / Validation set loss = 16.822\n",
      "Step 3000: Training set loss = 9.233 / Validation set loss = 8.726\n",
      "Step 4000: Training set loss = 4.913 / Validation set loss = 4.764\n",
      "Step 5000: Training set loss = 3.487 / Validation set loss = 3.44\n",
      "Step 6000: Training set loss = 2.638 / Validation set loss = 2.621\n",
      "Step 7000: Training set loss = 2.045 / Validation set loss = 2.056\n",
      "Step 8000: Training set loss = 3.512 / Validation set loss = 3.577\n",
      "Step 9000: Training set loss = 1.335 / Validation set loss = 1.42\n",
      "Step 10000: Training set loss = 1.593 / Validation set loss = 1.684\n",
      "Step 11000: Training set loss = 1.062 / Validation set loss = 1.172\n",
      "Step 12000: Training set loss = 0.939 / Validation set loss = 1.053\n",
      "Step 13000: Training set loss = 0.871 / Validation set loss = 0.984\n",
      "Step 14000: Training set loss = 0.774 / Validation set loss = 0.888\n",
      "Step 15000: Training set loss = 0.715 / Validation set loss = 0.829\n",
      "Step 16000: Training set loss = 0.78 / Validation set loss = 0.892\n",
      "Step 17000: Training set loss = 0.613 / Validation set loss = 0.728\n",
      "Step 18000: Training set loss = 0.576 / Validation set loss = 0.693\n",
      "Step 19000: Training set loss = 0.556 / Validation set loss = 0.675\n",
      "Step 20000: Training set loss = 0.508 / Validation set loss = 0.626\n",
      "Step 21000: Training set loss = 0.482 / Validation set loss = 0.601\n",
      "Step 22000: Training set loss = 0.452 / Validation set loss = 0.572\n",
      "Step 23000: Training set loss = 0.446 / Validation set loss = 0.566\n",
      "Step 24000: Training set loss = 0.406 / Validation set loss = 0.525\n",
      "Step 25000: Training set loss = 0.44 / Validation set loss = 0.56\n",
      "Step 26000: Training set loss = 0.366 / Validation set loss = 0.485\n",
      "Step 27000: Training set loss = 0.343 / Validation set loss = 0.46\n",
      "Step 28000: Training set loss = 0.436 / Validation set loss = 0.552\n",
      "Step 29000: Training set loss = 0.306 / Validation set loss = 0.423\n",
      "Step 30000: Training set loss = 0.318 / Validation set loss = 0.43\n",
      "Step 31000: Training set loss = 0.293 / Validation set loss = 0.41\n",
      "Step 32000: Training set loss = 0.262 / Validation set loss = 0.378\n",
      "Step 33000: Training set loss = 0.274 / Validation set loss = 0.393\n",
      "Step 34000: Training set loss = 0.247 / Validation set loss = 0.361\n",
      "Step 35000: Training set loss = 0.236 / Validation set loss = 0.353\n",
      "Step 36000: Training set loss = 0.416 / Validation set loss = 0.526\n",
      "Step 37000: Training set loss = 0.214 / Validation set loss = 0.327\n",
      "Step 38000: Training set loss = 0.313 / Validation set loss = 0.427\n",
      "Step 39000: Training set loss = 0.208 / Validation set loss = 0.32\n",
      "Step 40000: Training set loss = 0.2 / Validation set loss = 0.309\n",
      "Step 41000: Training set loss = 0.193 / Validation set loss = 0.302\n",
      "Step 42000: Training set loss = 0.337 / Validation set loss = 0.442\n",
      "Step 43000: Training set loss = 0.327 / Validation set loss = 0.436\n",
      "Step 44000: Training set loss = 0.18 / Validation set loss = 0.285\n",
      "Step 45000: Training set loss = 0.185 / Validation set loss = 0.291\n",
      "Step 46000: Training set loss = 0.167 / Validation set loss = 0.269\n",
      "Step 47000: Training set loss = 0.178 / Validation set loss = 0.282\n",
      "Step 48000: Training set loss = 0.183 / Validation set loss = 0.286\n",
      "Step 49000: Training set loss = 0.221 / Validation set loss = 0.326\n",
      "Step 50000: Training set loss = 0.315 / Validation set loss = 0.403\n",
      "Step 51000: Training set loss = 0.151 / Validation set loss = 0.249\n",
      "Step 52000: Training set loss = 0.143 / Validation set loss = 0.239\n",
      "Step 53000: Training set loss = 0.178 / Validation set loss = 0.276\n",
      "Step 54000: Training set loss = 0.133 / Validation set loss = 0.23\n",
      "Step 55000: Training set loss = 0.313 / Validation set loss = 0.407\n",
      "Step 56000: Training set loss = 0.133 / Validation set loss = 0.228\n",
      "Step 57000: Training set loss = 0.199 / Validation set loss = 0.296\n",
      "Step 58000: Training set loss = 0.244 / Validation set loss = 0.34\n",
      "Step 59000: Training set loss = 0.161 / Validation set loss = 0.258\n",
      "Step 60000: Training set loss = 0.113 / Validation set loss = 0.206\n",
      "Step 61000: Training set loss = 0.147 / Validation set loss = 0.242\n",
      "Step 62000: Training set loss = 0.132 / Validation set loss = 0.226\n",
      "Step 63000: Training set loss = 0.109 / Validation set loss = 0.201\n",
      "Step 64000: Training set loss = 0.118 / Validation set loss = 0.208\n",
      "Step 65000: Training set loss = 0.119 / Validation set loss = 0.212\n"
     ]
    }
   ],
   "source": [
    "training_loss, validation_loss = training.neural_net(training_labels, training_spectra,\\\n",
    "                                                     validation_labels, validation_spectra,\\\n",
    "                                                     num_neurons = 300, num_steps=65000, learning_rate=0.001)"
   ]
  },
  {
   "cell_type": "code",
   "execution_count": null,
   "metadata": {
    "scrolled": true
   },
   "outputs": [],
   "source": [
    "#training_loss, validation_loss = training.neural_net(training_labels, training_spectra, validation_labels, validation_spectra,\\\n",
    "#             num_neurons = 300, num_steps=1e4, learning_rate=1e-4, batch_size=150,\\\n",
    "#             num_pixel=14304)"
   ]
  },
  {
   "cell_type": "code",
   "execution_count": 69,
   "metadata": {},
   "outputs": [
    {
     "data": {
      "text/plain": [
       "Text(0, 0.5, 'Loss')"
      ]
     },
     "execution_count": 69,
     "metadata": {},
     "output_type": "execute_result"
    },
    {
     "data": {
      "image/png": "[encoded data removed]",
      "text/plain": [
       "<Figure size 1008x288 with 1 Axes>"
      ]
     },
     "metadata": {
      "needs_background": "light"
     },
     "output_type": "display_data"
    }
   ],
   "source": [
    "tmp = np.load(\"NN_normalized_spectra.npz\") \n",
    "training_loss = tmp[\"training_loss\"]\n",
    "validation_loss = tmp[\"validation_loss\"]\n",
    "\n",
    "plt.figure(figsize=(14, 4))\n",
    "plt.ylim(0,9)\n",
    "plt.plot(np.arange(training_loss.size)*1000, training_loss, 'k', lw=0.5, label = 'Training set')\n",
    "plt.plot(np.arange(training_loss.size)*1000, validation_loss, 'r', lw=0.5, label = 'Validation set')\n",
    "plt.legend(loc = 'best', frameon = False, fontsize= 18)\n",
    "plt.xlabel(\"Step\", size=20)\n",
    "plt.ylabel(\"Loss\", size=20)"
   ]
  },
  {
   "cell_type": "code",
   "execution_count": 30,
   "metadata": {},
   "outputs": [
    {
     "data": {
      "text/plain": [
       "array([35.07631683, 17.37838364,  9.23341179,  4.91313648,  3.48716688,\n",
       "        2.63830018,  2.04560804,  3.51272631,  1.33530915,  1.59387183,\n",
       "        1.06292963,  0.93917924,  0.87134206,  0.77476186,  0.71501172,\n",
       "        0.78068364,  0.61364532,  0.57676274,  0.55616486,  0.50891483,\n",
       "        0.48251942,  0.45289469,  0.44627085,  0.40682039,  0.44008571,\n",
       "        0.3664436 ,  0.34398898,  0.4361614 ,  0.3060382 ,  0.31805074,\n",
       "        0.29300934,  0.26215002,  0.27405423,  0.24771459,  0.23695646,\n",
       "        0.41622287,  0.21481593,  0.31365016,  0.20837043,  0.20084246,\n",
       "        0.19399062,  0.33744603,  0.32770577,  0.1808832 ,  0.18559706,\n",
       "        0.16781764,  0.17802748,  0.18341874,  0.22131754,  0.31542808,\n",
       "        0.15150224,  0.14321971,  0.17839944,  0.13397913,  0.31327176,\n",
       "        0.1334067 ,  0.19973391,  0.24407227,  0.16169906,  0.11350394,\n",
       "        0.14756086,  0.1327247 ,  0.10937902,  0.1180836 ,  0.11981697])"
      ]
     },
     "execution_count": 30,
     "metadata": {},
     "output_type": "execute_result"
    }
   ],
   "source": [
    "training_loss"
   ]
  },
  {
   "cell_type": "code",
   "execution_count": 31,
   "metadata": {},
   "outputs": [
    {
     "data": {
      "text/plain": [
       "['w_array_0',\n",
       " 'w_array_1',\n",
       " 'w_array_2',\n",
       " 'b_array_0',\n",
       " 'b_array_1',\n",
       " 'b_array_2',\n",
       " 'x_max',\n",
       " 'x_min',\n",
       " 'training_loss',\n",
       " 'validation_loss']"
      ]
     },
     "execution_count": 31,
     "metadata": {},
     "output_type": "execute_result"
    }
   ],
   "source": [
    "tmp.files"
   ]
  }
 ],
 "metadata": {
  "kernelspec": {
   "display_name": "Python 3",
   "language": "python",
   "name": "python3"
  },
  "language_info": {
   "codemirror_mode": {
    "name": "ipython",
    "version": 3
   },
   "file_extension": ".py",
   "mimetype": "text/x-python",
   "name": "python",
   "nbconvert_exporter": "python",
   "pygments_lexer": "ipython3",
   "version": "3.7.3"
  }
 },
 "nbformat": 4,
 "nbformat_minor": 2
}
